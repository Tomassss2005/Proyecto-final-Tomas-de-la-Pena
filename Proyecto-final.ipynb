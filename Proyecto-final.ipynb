{
 "cells": [
  {
   "cell_type": "markdown",
   "id": "0e58e87c-cf55-4f03-9645-1bca3108a759",
   "metadata": {},
   "source": [
    "- Nombre del proyecto: CreativePulse\n",
    "- Nombre del autor: Tomás de la Peña\n",
    "- Nombre del curso: Inteligencia Artificial: Generación de Prompts\n",
    "- Número de la comisión: 67115\n",
    "- Nombre del proyecto: Desbloqueos Creativos"
   ]
  },
  {
   "cell_type": "markdown",
   "id": "0faba956-d4ca-462c-ba0c-5e2bc5a0de7d",
   "metadata": {},
   "source": [
    "Resumen\n",
    "-En esta idea propongo la solución para aquellas personas que se les dificulta pensar en ideas, proyectos o nombres sobre algún tema, ya sea en ámbito laboral o personal. Yo creo que con esta idea se evita la pérdida de mucho tiempo y hasta incluso se aprende para futuros ideas/proyectos."
   ]
  },
  {
   "cell_type": "markdown",
   "id": "993b3c28-55a3-4791-9293-1d4d0a6d4a89",
   "metadata": {},
   "source": [
    "Presentación del problema\n",
    "Falta de creatividad o bloqueo mental al escribir contenido\n",
    "-Ya sea en un entorno laboral o personal muchas personas enfrentan bloqueos creativos que dificultan comenzar o finalizar una tarea de escritura.\n",
    "-Esta se considera una problemática muy relevante en aquellas personas que están atadas a problemas de creatividad o bloqueo mental (como puede ser la creación de contenido) , por lo que están demasiado tiempo con muchas ideas en la mente y no pueden definir una idea clara.\n",
    "Esta problemática se puede observar tanto en el ámbito laboral (como redactar correos, informes o contenido publicitario) tanto como en el personal (como escribir un diario o un post en redes sociales) \n",
    "Por esto me pareció una buena selección esta problemática ya que mucha gente no encuentra cómo resolver este problema."
   ]
  },
  {
   "cell_type": "markdown",
   "id": "317f80de-8ee7-421b-88f8-9650027714ae",
   "metadata": {},
   "source": [
    "Desarrollo de solución \n",
    "\n",
    "Para redactar correos:\n",
    "- Prompt: \"Escribe un correo profesional para un propósito dirigido un nombre/rol. Incluye un tono formal/informal y menciona un tema específico.\n",
    "Termina con un llamado a la acción.\"\n",
    "\n",
    "Para desbloqueo creativo:\n",
    "- Prompt: \"Genera tres ideas frescas para un artículo sobre ese tema. Que sean originales, pero relevantes.\"\n",
    "\n",
    "Para brainstorming en equipo:\n",
    "- Prompt: \"Crea una lista de 5 soluciones innovadoras para ese problema del equipo, enfocándose en los recursos disponibles.\"\n",
    "\n",
    "Para contenido publicitario: \n",
    "- Prompt: \"Escribe una campaña corta para redes sociales sobre ese producto. Usa un tono divertido/informativo y eso lo enfoca en el beneficio clave.\"\n",
    "\n",
    "Para motivación personal:\n",
    "- Prompt: \"Hace una lista de 5 pasos simples para empezar con el objetivo personal, manteniendo el enfoque en la cualidad positiva, como constancia o simplicidad.\""
   ]
  },
  {
   "cell_type": "markdown",
   "id": "ff2f4e80-6c84-479f-9d53-54210d08f466",
   "metadata": {},
   "source": [
    "Justificación\n",
    "\n",
    "- La solución se basa en prompts bien diseñados para utilizar herramientas de generación de texto, como modelos de lenguaje (e.g., Chat GPT). Estas herramientas son fácilmente accesibles y no requieren un desarrollo técnico complejo. Los prompts son específicos y aplicables a diversos escenarios, lo que asegura que sean efectivos para quienes enfrentan bloqueos creativos en distintos contextos.\n",
    "Los prompts cubren múltiples casos de uso comunes, asegurando que la solución sea flexible y aplicable tanto en contextos laborales como personales. Cada prompt tiene un propósito claro (correos, creatividad, brainstorming, contenido publicitario, motivación), lo que ayuda a los usuarios a superar el bloqueo específico que enfrentan.\n",
    "- Son muchos de los recursos las clases en vivo, el campus virtual con las clases grabadas, los materiales de lectura, el chat de CoderHouse para despejar dudas y si es necesario más ayuda están a disposición los profesores o también el uso de Chat GPT..Teniendo en cuenta el tiempo disponible estimo a una terminarlo en una semana (si todas los dias se le dedica un buen tiempo al proyecto)."
   ]
  },
  {
   "cell_type": "markdown",
   "id": "408a8d47-63f0-424c-9889-5a66c0088921",
   "metadata": {},
   "source": [
    "Objetivos\n",
    "\n",
    "- Identificar las causas del bloqueo creativo y la falta de fluidez mental al escribir\n",
    "- Desarrollar herramientas o métodos que faciliten el proceso de escritura\n",
    "- Abrir la mente para futuros proyectos\n",
    "- Generar una idea en poco tiempo"
   ]
  },
  {
   "cell_type": "markdown",
   "id": "d500c85e-25a2-4ae0-8816-3de0be9fa7a4",
   "metadata": {},
   "source": [
    "Metodología\n",
    "\n",
    "1. Investigación y Diagnóstico\n",
    "\n",
    "Objetivo: Investigar las causas del bloqueo creativo y entender cómo afecta la escritura en diferentes contextos (laboral y personal).\n",
    "Acción: Revisión bibliográfica y entrevistas/encuestas a individuos afectados por el bloqueo creativo.\n",
    "Resultado esperado: Identificación de los factores comunes que desencadenan el bloqueo y su impacto en la productividad.\n",
    "\n",
    "2. Experimentación de Técnicas de Desbloqueo Creativo\n",
    "\n",
    "Objetivo: Evaluar diversas técnicas y herramientas para superar el bloqueo creativo.\n",
    "Acción: Aplicación de métodos como la escritura libre, el uso de plantillas y generadores de ideas, y técnicas de relajación o mindfulness.\n",
    "Resultado esperado: Determinar qué técnicas son más efectivas para desbloquear la creatividad.\n",
    "\n",
    "3. Desarrollo de Herramientas Prácticas\n",
    "\n",
    "Objetivo: Crear recursos accesibles para facilitar la superación del bloqueo creativo.\n",
    "Acción: Diseñar plantillas, guías y herramientas digitales basadas en los resultados de la experimentación.\n",
    "Resultado esperado: Generar herramientas que los usuarios puedan aplicar de manera autónoma en sus procesos de escritura.\n",
    "\n",
    "4. Evaluación de Impacto y Ajustes\n",
    "\n",
    "Objetivo: Medir la efectividad de las soluciones propuestas y hacer ajustes si es necesario.\n",
    "Acción: Realizar un seguimiento con los usuarios que han utilizado las herramientas, analizar los resultados y ajustar las técnicas.\n",
    "Resultado esperado: Validar la eficacia de las soluciones y ofrecer recomendaciones finales basadas en la experiencia práctica.\n",
    "Este enfoque permite abordar el problema de manera integral, desde la investigación inicial hasta la implementación y evaluación de soluciones efectivas."
   ]
  },
  {
   "cell_type": "markdown",
   "id": "05cb3eb6-2c97-4c96-a8f3-52f5c6dc72b8",
   "metadata": {},
   "source": [
    "Herramientas y tecnologías\n",
    "\n",
    "1. Generador de Prompts Basados en IA\n",
    "\n",
    "ChatGPT: El uso de modelos como ChatGPT para generar ideas, sugerencias de escritura y superar bloqueos creativos. Se pueden generar prompts personalizados para diferentes tipos de escritura (correos electrónicos, posts, informes, etc.).\n",
    "\n",
    "2. Aplicaciones de Escritura Automática\n",
    "\n",
    "Scrivener: Un software que ayuda a organizar ideas y escribir de manera estructurada, ideal para proyectos largos o complejos.\n",
    "\n",
    "3. Herramientas de Generación de Contenido Visual\n",
    "\n",
    "Canva o Adobe Spark: Ayudan a combinar texto e imágenes, generando contenido visual atractivo que puede inspirar ideas nuevas, especialmente en redes sociales o publicaciones de blogs.\n",
    "\n",
    "4. Generador de imagenes\n",
    "\n",
    "NightCafe: Generador de imágenes artísticas a partir de descripciones textuales. Se puede crear contenido visual inspirador para acompañar proyectos de escritura o visualizar conceptos, lo que ayuda a desbloquear la creatividad y superar bloqueos al generar ideas visuales que complementen el texto."
   ]
  },
  {
   "cell_type": "markdown",
   "id": "1be6959b-bec3-49d3-b78c-8a94ecbe033e",
   "metadata": {},
   "source": [
    "Implementación de código a continuación"
   ]
  },
  {
   "cell_type": "code",
   "execution_count": null,
   "id": "2056e373-eeb2-426a-8429-3c0c988f2751",
   "metadata": {},
   "outputs": [],
   "source": [
    "import openai\n",
    "\n",
    "\n",
    "def generar_ideas_openai(tema):\n",
    "    \"\"\"\n",
    "    Genera ideas innovadoras con una estructura más detallada sobre un tema utilizando la API de OpenAI.\n",
    "    Maneja temas como desbloqueo creativo, brainstorming en equipo, contenido publicitario y motivación personal.\n",
    "    \"\"\"\n",
    "    mensajes = [\n",
    "        {\"role\": \"system\", \"content\": \"Eres un asistente creativo experto en generación de email, desbloqueo creativo, brainstorming en equipo, contenido publicitario y motivación personal.\"},\n",
    "        {\"role\": \"user\", \"content\": f\"Genera ideas innovadoras o consejos útiles relacionados con el tema '{tema}', por favor.\"}\n",
    "    ]\n",
    "    \n",
    "    try:\n",
    "        # Llamada a la API de OpenAI\n",
    "        response = openai.ChatCompletion.create(\n",
    "            model=\"gpt-3.5-turbo\",\n",
    "            messages=mensajes,\n",
    "            max_tokens=300\n",
    "        )\n",
    "        \n",
    "        # Obtener el texto generado por OpenAI\n",
    "        resultado = response['choices'][0]['message']['content'].strip()\n",
    "        \n",
    "        # Crear un resumen de las ideas generadas\n",
    "        resumen = f\"Resumen de las ideas generadas sobre '{tema}':\\n\"\n",
    "        resumen += resultado\n",
    "        \n",
    "        # Añadir retroalimentación adicional\n",
    "        retroalimentacion = \"\\n\\n¿Te gustaría expandir alguna de estas ideas? Si es así, por favor indica el número de la idea que más te interese.\"\n",
    "        resumen += retroalimentacion\n",
    "        \n",
    "        return resumen\n",
    "\n",
    "    except Exception as e:  # Captura cualquier excepción y muestra el error\n",
    "        return f\"Se produjo un error al interactuar con la API: {str(e)}\"\n",
    "\n",
    "\n",
    "# Solicitar al usuario el tema de interés\n",
    "print(\"¿Sobre qué tema necesitas ideas?\")\n",
    "print(\"Opciones: generación de email, desbloqueo creativo, brainstorming en equipo, contenido publicitario, motivación personal\")\n",
    "tema = input(\"Escribe tu tema: \")\n",
    "\n",
    "# Generar y mostrar ideas\n",
    "resultado = generar_ideas_openai(tema)\n",
    "print(\"\\n--- Ideas Generadas ---\\n\")\n",
    "print(resultado)"
   ]
  },
  {
   "cell_type": "raw",
   "id": "3dd44caa-b88a-49fa-8524-af90da21bede",
   "metadata": {},
   "source": [
    "Resultados\n",
    "-Los resultados que brinda la implementación dar una respuesta rápida y consisa sobre aquella información pedida por el usuario. Yo creo que si logra llegar a la solución esperada ya que si el usuario hace esa pregunta o necesita esa información, se le da esa respuesta clara. "
   ]
  },
  {
   "cell_type": "markdown",
   "id": "8fa22a1d-f882-44ad-b217-f680c1f1fca2",
   "metadata": {},
   "source": [
    "Conclusiones\n",
    "-Como conclusión del proyecto creo que las ideas y objetivos que se han logrado positivamente. No la solución a esta problemática ya que a muchos usuarios tal vez no les guste las respuestas que se les brinda, pero si se logró un avance para muchas personas con esta idea."
   ]
  },
  {
   "cell_type": "markdown",
   "id": "70bcd422-b5c8-4623-8240-717331ff6d3d",
   "metadata": {},
   "source": [
    "Referencias\n",
    "-Clases de CoderHouse.\n",
    "-Información de gente con este problemática en Google.\n",
    "-Documentación de IA:\n",
    "OpenAI Documentation. (2024). Guide to Crafting Effective Prompts. Disponible en: https://platform.openai.com/docs"
   ]
  }
 ],
 "metadata": {
  "kernelspec": {
   "display_name": "Python 3 (ipykernel)",
   "language": "python",
   "name": "python3"
  },
  "language_info": {
   "codemirror_mode": {
    "name": "ipython",
    "version": 3
   },
   "file_extension": ".py",
   "mimetype": "text/x-python",
   "name": "python",
   "nbconvert_exporter": "python",
   "pygments_lexer": "ipython3",
   "version": "3.12.7"
  }
 },
 "nbformat": 4,
 "nbformat_minor": 5
}
